{
 "cells": [
  {
   "cell_type": "markdown",
   "metadata": {},
   "source": [
    "### Titanic Data Science Solutions\n",
    "\n",
    "#### 이 노트북은 [Data Science Solutions](https://www.amazon.com/Data-Science-Solutions-Startup-Workflow/dp/1520545312)라는  책과 관련이 있습니다.\n",
    "\n",
    "이 노트북은 Kaggle과 같은 데이터 관련 문제를 해결하기 위한 일반적인 워크플로우를 안내한다. 데이터 분석 관련 공부를 위한 몇 가지 훌륭한 노트북이 있다. 그러나 대부분은 전문가들을 위한 전문가들에 의해 만들어졌기 때문에 대다수의 설명이 생략되어 있다. 이 노트북의 목표는 과정 중 모든 결정에 대해 각 단계와 근거를 설명하는 단계별 워크플로우가 되는 것이다.\n",
    "\n",
    "### Workflow stages\n",
    "\n",
    "워크플로우는 책에 설명 되어 있듯이 7단계로 진행 된다.\n",
    "\n",
    "1. 질문 또는 문제 정의\n",
    "2. train, test data 확보\n",
    "3. Data 준비 및 정리\n",
    "4. 패턴 분석 및 데이터 탐색\n",
    "5. 모델링 및 예측\n",
    "6. 최종 솔루션 시각화, 보고 및 제시\n",
    "7. 결과 제출\n",
    "\n",
    "워크플로우는 각 단계가 다른 단계를 따를 수 있는 일반적인 순서를 나타낸다. 그러나 예외를 가진 경우도 존재한다.\n",
    "\n",
    "- 여러 워크플로우 단계 결합 가능, 데이터를 시각화하여 분석할 수 있다.\n",
    "- 단계별 먼저 나오는 경우도 있다. 데이터 전처리 전에도 분석 가능하다.\n",
    "- 워크플로우에서 스테이지를 여러 번 수행 가능. 시각화 단계를 여러 번 사용할 수 있다.\n",
    "- 결과를 제출할 필요가 없을 경우에는 마지막 단계를 빼도 된다.\n",
    "\n",
    "### 질문 및 문제 정의\n",
    "\n",
    "Kaggle과 같은 사이트는 데이터셋을 제공하는 동시에 해결해야 할 문자나 질문할 문제를 정의해준다. 이 대회의 질문이나 문제 정의는 [여기](https://www.kaggle.com/c/titanic)에 설명되어 있다.\n",
    "\n",
    "> 타이타닉에서 생존했거나 생존하지 못한 승객의 training set을 통해 test dataset의 승객의 생존 여부를 파악해야 한다.\n",
    "\n",
    "우리는 우리 문제의 domain에 대한 초기 이해를 발전시키고 싶을 수 있다. [여기](https://www.kaggle.com/c/titanic)에 설명되어 있다. 다음은 주목할 만한 사항이다.\n",
    "\n",
    "- 1912년 4월 15일, 처녀 항해 중 타이타닉호는 빙산과 충돌한 후 침몰하여 승객과 승무원 2224명 중 1502명이 사망, 생존율은 32%이다.\n",
    "- 난파선이 이처럼 인명피해를 낸 이유 중 하나는 승객과 승무원을 위한 구명보트가 부족했기 때문이다.\n",
    "- 비록 침몰에서 살아남는 데는 운의 요소도 있었지만, 여성, 어린이, 상류층 등 다른 사람들보다 더 많이 살아남은 군집들이 존재했다.\n",
    "\n",
    "### Workflow goals\n",
    "\n",
    "Data science solution workflow는 7가지 주요 목표를 해결해야된다.\n",
    "\n",
    "#### 1) Classifying\n",
    "우리는 우리의 샘플을 분류하거나 분류하기를 원할 수 있다. 또한 다양한 클래스와 솔루션 목표의 상관 관계 또는 시사점을 이해하고 싶어할 수 있다.\n",
    "\n",
    "#### 2) Correlating\n",
    "Train data에서 사용 가능한 feature를 기준으로 문제에 접근할 수 있다. 어떤 feature가 우리의 solution 목표에 크게 기여할까? 통계적으로 feature와 solution 목표 사이에 상관관계가 있는지? feature 값이 변경 되면 solution 상태도 변경되고 반대의 경우도 변경이 되는지? 주어진 데이터셋의 연속형, 범주형 feature에 모두 테스트 할 수 있다. 또한 생존 이외의 후속 목표 또는 workflow stage에 대한 feature간 상관관계 확인 가능하다. 특정 feature를 상호 연결하면 feature를 생성, 완료, 수정하는데 도움이 될 수 있다.\n",
    "\n",
    "#### 3) Converting\n",
    "모델링 단계에서는 데이터를 준비해야 된다. 모델 선택에 따라 모든 feature를 수치형으로 변환해야 할 수도 있다. 예를 들어 텍스트 범주형 값을 수치형으로 변환한다.\n",
    "\n",
    "#### 4) Completing\n",
    "데이터 준비를 위해 feature 내에 결측값을 추정해야 할 수도 있다. 결측값이 없을 때 모델이 가장 잘 작동한다.\n",
    "\n",
    "#### 5) Correcting\n",
    "주어진 데이터셋에서 feature 내에 오류 또는 부정확한 값이 있는지 분석하고 이러한 값이 나타나거나 오류가 포함된 샘플을 제외할 수도 있다. 이를 위한 방법으로 샘플 또는 feature 중 outliers를 탐지하는 것이다. 분석에 도움이 되지 않거나 결과가 크게 왜곡될 수 있는 경우 feature를 완전히 버릴 수도 있다.\n",
    "\n",
    "#### 6) Creating\n",
    "기존 feature 또는 feature 세트의 기반으로 새로운 feature를 만들 수 있다. 예를 들어 새 feature는 상관관계, 변환, 완전성 목표를 따른다.\n",
    "\n",
    "#### 7) Charting\n",
    "데이터의 feature 및 솔루션 목표에 따라 올바른 시각화 그림 및 차트를 선택하는 방법이다."
   ]
  },
  {
   "cell_type": "code",
   "execution_count": null,
   "metadata": {},
   "outputs": [],
   "source": []
  },
  {
   "cell_type": "code",
   "execution_count": null,
   "metadata": {},
   "outputs": [],
   "source": []
  },
  {
   "cell_type": "code",
   "execution_count": null,
   "metadata": {},
   "outputs": [],
   "source": []
  },
  {
   "cell_type": "code",
   "execution_count": null,
   "metadata": {},
   "outputs": [],
   "source": []
  },
  {
   "cell_type": "code",
   "execution_count": null,
   "metadata": {},
   "outputs": [],
   "source": []
  },
  {
   "cell_type": "code",
   "execution_count": null,
   "metadata": {},
   "outputs": [],
   "source": []
  },
  {
   "cell_type": "code",
   "execution_count": null,
   "metadata": {},
   "outputs": [],
   "source": []
  },
  {
   "cell_type": "code",
   "execution_count": null,
   "metadata": {},
   "outputs": [],
   "source": []
  },
  {
   "cell_type": "code",
   "execution_count": null,
   "metadata": {},
   "outputs": [],
   "source": []
  },
  {
   "cell_type": "code",
   "execution_count": null,
   "metadata": {},
   "outputs": [],
   "source": []
  },
  {
   "cell_type": "code",
   "execution_count": null,
   "metadata": {},
   "outputs": [],
   "source": []
  },
  {
   "cell_type": "code",
   "execution_count": null,
   "metadata": {},
   "outputs": [],
   "source": []
  },
  {
   "cell_type": "code",
   "execution_count": null,
   "metadata": {},
   "outputs": [],
   "source": []
  },
  {
   "cell_type": "code",
   "execution_count": null,
   "metadata": {},
   "outputs": [],
   "source": []
  },
  {
   "cell_type": "code",
   "execution_count": null,
   "metadata": {},
   "outputs": [],
   "source": []
  },
  {
   "cell_type": "code",
   "execution_count": null,
   "metadata": {},
   "outputs": [],
   "source": []
  },
  {
   "cell_type": "code",
   "execution_count": null,
   "metadata": {},
   "outputs": [],
   "source": []
  },
  {
   "cell_type": "code",
   "execution_count": null,
   "metadata": {},
   "outputs": [],
   "source": []
  },
  {
   "cell_type": "code",
   "execution_count": null,
   "metadata": {},
   "outputs": [],
   "source": []
  },
  {
   "cell_type": "code",
   "execution_count": null,
   "metadata": {},
   "outputs": [],
   "source": []
  },
  {
   "cell_type": "code",
   "execution_count": null,
   "metadata": {},
   "outputs": [],
   "source": []
  },
  {
   "cell_type": "markdown",
   "metadata": {},
   "source": [
    "#### [참고 링크](https://www.kaggle.com/startupsci/titanic-data-science-solutions)"
   ]
  }
 ],
 "metadata": {
  "kernelspec": {
   "display_name": "Python 3",
   "language": "python",
   "name": "python3"
  },
  "language_info": {
   "codemirror_mode": {
    "name": "ipython",
    "version": 3
   },
   "file_extension": ".py",
   "mimetype": "text/x-python",
   "name": "python",
   "nbconvert_exporter": "python",
   "pygments_lexer": "ipython3",
   "version": "3.7.3"
  }
 },
 "nbformat": 4,
 "nbformat_minor": 2
}
