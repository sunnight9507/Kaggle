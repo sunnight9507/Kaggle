{
 "cells": [
  {
   "cell_type": "markdown",
   "metadata": {},
   "source": [
    "#### 때로는 삶이 잔인한 유머감각을 가지고 있어, 가능한 한 최악의 시기에 항상 원했던 것을 너에게 준다.  <div style=\"text-align: right\">`-Lisa Kleypas-`</div>\n",
    "&nbsp;&nbsp;\n",
    "타이타닉호의 침몰은 역사상 가장 악명 높은 난파선 중 하나이다. 1912년 4월 15일 처녀항해 중 타이타닉호는 빙산과 충돌한 뒤 침몰해 승객과 승무원 2224명 중 1502명이 사망했다. 그래서 **DieTanic**이라는 이름이 생긴 것이다. 이것은 이 세상 어느 누구도 잊을 수 없는 매우 용서할 수 없는 재앙이다.\n",
    "\n",
    "\n",
    "&nbsp;&nbsp;타이타닉호를 만드는 데 약 750만 달러가 걸렸고 충돌로 인해 바다 밑으로 가라앉았다. Titanic Dataset은 data science로 갈 때 초심자일 때 좋은 데이터이고 Kaggle에 참여하기 좋은 대회이다.\n",
    "\n",
    "\n",
    "&nbsp;&nbsp;이 노트북의 `목적`은 **예측 모델링 문제에서 workflow가 어떻게 되는지를 알아내는 것**이다. features를 확인하고, 새로운 features를 생성하고 Machine Learning 개념을 알아가보자. 나는 초보들도 모든 단계를 이해할 수 있도록 가능한 한 기본을 지키려고 노력했다."
   ]
  },
  {
   "cell_type": "markdown",
   "metadata": {},
   "source": [
    "### <div style=\"text-align:center\">- Notebook 목차 -</div>\n",
    "\n",
    "#### Part1: Exploratory Data Analysis(EDA)\n",
    "1) Analysis of the features.\n",
    "\n",
    "2) Finding any relations or trends considering multiple features.\n",
    "#### Part2: Feature Engineering and Data Cleaning\n",
    "1) Adding any few features.\n",
    "\n",
    "2) Removing redundant features.\n",
    "\n",
    "3) Converting features into suitable form for modeling.\n",
    "#### Part3: Predictive Modeling\n",
    "1) Running Basic Algorithms.\n",
    "\n",
    "2) Cross Validation.\n",
    "\n",
    "3) Ensembling.\n",
    "\n",
    "4) Important Features Extraction."
   ]
  },
  {
   "cell_type": "markdown",
   "metadata": {},
   "source": [
    "### Part1: Exploratory Data Analysis(EDA)"
   ]
  },
  {
   "cell_type": "code",
   "execution_count": 1,
   "metadata": {},
   "outputs": [],
   "source": [
    "import numpy as np\n",
    "import pandas as pd\n",
    "import matplotlib.pyplot as plt\n",
    "import seaborn as sns\n",
    "plt.style.use('fivethirtyeight')\n",
    "import warnings\n",
    "warnings.filterwarnings('ignore')\n",
    "%matplotlib inline"
   ]
  },
  {
   "cell_type": "code",
   "execution_count": 2,
   "metadata": {},
   "outputs": [
    {
     "data": {
      "text/html": [
       "<div>\n",
       "<style scoped>\n",
       "    .dataframe tbody tr th:only-of-type {\n",
       "        vertical-align: middle;\n",
       "    }\n",
       "\n",
       "    .dataframe tbody tr th {\n",
       "        vertical-align: top;\n",
       "    }\n",
       "\n",
       "    .dataframe thead th {\n",
       "        text-align: right;\n",
       "    }\n",
       "</style>\n",
       "<table border=\"1\" class=\"dataframe\">\n",
       "  <thead>\n",
       "    <tr style=\"text-align: right;\">\n",
       "      <th></th>\n",
       "      <th>PassengerId</th>\n",
       "      <th>Survived</th>\n",
       "      <th>Pclass</th>\n",
       "      <th>Name</th>\n",
       "      <th>Sex</th>\n",
       "      <th>Age</th>\n",
       "      <th>SibSp</th>\n",
       "      <th>Parch</th>\n",
       "      <th>Ticket</th>\n",
       "      <th>Fare</th>\n",
       "      <th>Cabin</th>\n",
       "      <th>Embarked</th>\n",
       "    </tr>\n",
       "  </thead>\n",
       "  <tbody>\n",
       "    <tr>\n",
       "      <th>0</th>\n",
       "      <td>1</td>\n",
       "      <td>0</td>\n",
       "      <td>3</td>\n",
       "      <td>Braund, Mr. Owen Harris</td>\n",
       "      <td>male</td>\n",
       "      <td>22.0</td>\n",
       "      <td>1</td>\n",
       "      <td>0</td>\n",
       "      <td>A/5 21171</td>\n",
       "      <td>7.2500</td>\n",
       "      <td>NaN</td>\n",
       "      <td>S</td>\n",
       "    </tr>\n",
       "    <tr>\n",
       "      <th>1</th>\n",
       "      <td>2</td>\n",
       "      <td>1</td>\n",
       "      <td>1</td>\n",
       "      <td>Cumings, Mrs. John Bradley (Florence Briggs Th...</td>\n",
       "      <td>female</td>\n",
       "      <td>38.0</td>\n",
       "      <td>1</td>\n",
       "      <td>0</td>\n",
       "      <td>PC 17599</td>\n",
       "      <td>71.2833</td>\n",
       "      <td>C85</td>\n",
       "      <td>C</td>\n",
       "    </tr>\n",
       "    <tr>\n",
       "      <th>2</th>\n",
       "      <td>3</td>\n",
       "      <td>1</td>\n",
       "      <td>3</td>\n",
       "      <td>Heikkinen, Miss. Laina</td>\n",
       "      <td>female</td>\n",
       "      <td>26.0</td>\n",
       "      <td>0</td>\n",
       "      <td>0</td>\n",
       "      <td>STON/O2. 3101282</td>\n",
       "      <td>7.9250</td>\n",
       "      <td>NaN</td>\n",
       "      <td>S</td>\n",
       "    </tr>\n",
       "  </tbody>\n",
       "</table>\n",
       "</div>"
      ],
      "text/plain": [
       "   PassengerId  Survived  Pclass  \\\n",
       "0            1         0       3   \n",
       "1            2         1       1   \n",
       "2            3         1       3   \n",
       "\n",
       "                                                Name     Sex   Age  SibSp  \\\n",
       "0                            Braund, Mr. Owen Harris    male  22.0      1   \n",
       "1  Cumings, Mrs. John Bradley (Florence Briggs Th...  female  38.0      1   \n",
       "2                             Heikkinen, Miss. Laina  female  26.0      0   \n",
       "\n",
       "   Parch            Ticket     Fare Cabin Embarked  \n",
       "0      0         A/5 21171   7.2500   NaN        S  \n",
       "1      0          PC 17599  71.2833   C85        C  \n",
       "2      0  STON/O2. 3101282   7.9250   NaN        S  "
      ]
     },
     "execution_count": 2,
     "metadata": {},
     "output_type": "execute_result"
    }
   ],
   "source": [
    "data = pd.read_csv('train.csv')\n",
    "\n",
    "data.head(3)"
   ]
  },
  {
   "cell_type": "code",
   "execution_count": 3,
   "metadata": {},
   "outputs": [
    {
     "data": {
      "text/plain": [
       "PassengerId      0\n",
       "Survived         0\n",
       "Pclass           0\n",
       "Name             0\n",
       "Sex              0\n",
       "Age            177\n",
       "SibSp            0\n",
       "Parch            0\n",
       "Ticket           0\n",
       "Fare             0\n",
       "Cabin          687\n",
       "Embarked         2\n",
       "dtype: int64"
      ]
     },
     "execution_count": 3,
     "metadata": {},
     "output_type": "execute_result"
    }
   ],
   "source": [
    "data.isnull().sum() # checking for total null values"
   ]
  },
  {
   "cell_type": "markdown",
   "metadata": {},
   "source": [
    "- **Age, Cabin, Embarked**는 null 값이 있다."
   ]
  },
  {
   "cell_type": "code",
   "execution_count": 4,
   "metadata": {},
   "outputs": [
    {
     "data": {
      "image/png": "[encoded data removed]",
      "text/plain": [
       "<Figure size 504x288 with 2 Axes>"
      ]
     },
     "metadata": {
      "needs_background": "light"
     },
     "output_type": "display_data"
    }
   ],
   "source": [
    "f, ax = plt.subplots(1,2,figsize=(7,4)) # (1,2) 모양으로 도화지 생성\n",
    "# pie plot / explode : 간격 / autopct : 값 입력 / ax=ax[0] : 도화지 위치 설정 / shadow : 그림자 설정\n",
    "data['Survived'].value_counts().plot.pie(explode = [0,0.1],autopct='%.1f%%',\n",
    "                                         ax=ax[0],shadow=True)\n",
    "ax[0].set_title('Survived'); ax[0].set_ylabel('');\n",
    "\n",
    "sns.countplot('Survived',data=data,ax=ax[1],palette=\"Set2\")\n",
    "ax[1].set_title('Survived')\n",
    "plt.show()"
   ]
  },
  {
   "cell_type": "markdown",
   "metadata": {},
   "source": [
    "&nbsp;&nbsp;그 사고에서 살아남은 승객은 많지 않다는 것은 명백하다.\n",
    "\n",
    "&nbsp;&nbsp;훈련 세트 승객 891명 중 350명 정도만 살아남았다. 즉, 전체 훈련 세트의 **38.4%**만이 추락에서 살아남았다.우리는 데이터로부터 더 나은 통찰력을 얻고 categorie별 승객들의 생존 여부를 알아보자.우리는 데이터 세트의 다양한 feature을 사용해 생존율을 확인할 것이다.\n",
    "#### Features 분석"
   ]
  },
  {
   "cell_type": "code",
   "execution_count": 5,
   "metadata": {},
   "outputs": [
    {
     "data": {
      "text/plain": [
       "Sex     Survived\n",
       "female  0            81\n",
       "        1           233\n",
       "male    0           468\n",
       "        1           109\n",
       "Name: Survived, dtype: int64"
      ]
     },
     "execution_count": 5,
     "metadata": {},
     "output_type": "execute_result"
    }
   ],
   "source": [
    "data.groupby(['Sex', 'Survived'])['Survived'].count()"
   ]
  },
  {
   "cell_type": "code",
   "execution_count": 6,
   "metadata": {},
   "outputs": [
    {
     "data": {
      "image/png": "[encoded data removed]",
      "text/plain": [
       "<Figure size 504x288 with 2 Axes>"
      ]
     },
     "metadata": {
      "needs_background": "light"
     },
     "output_type": "display_data"
    }
   ],
   "source": [
    "f, ax = plt.subplots(1,2,figsize = (7,4))\n",
    "data[['Sex','Survived']].groupby(['Sex']).mean().plot.bar(ax = ax[0])\n",
    "ax[0].set_title('Survived vs Sex')\n",
    "sns.countplot('Sex', hue = 'Survived', data=data, ax=ax[1])\n",
    "ax[1].set_title('Sex:Survived vs Dead')\n",
    "plt.show()"
   ]
  },
  {
   "cell_type": "markdown",
   "metadata": {},
   "source": [
    "&nbsp;&nbsp;배에 타고 있는 남자들의 수가 여자들의 수보다 훨씬 많다. 그렇지만 여성의 생존 수가 남성의 생존 수의 약 2배이다. 배에 타고 있는 **여성의 생존율은 약 75%인 반면, 남성의 생존율은 약 18-19%**이다.\n",
    "\n",
    "이 feature는 모델링을 위한 중요한 변수로 보인다."
   ]
  },
  {
   "cell_type": "code",
   "execution_count": 7,
   "metadata": {},
   "outputs": [
    {
     "data": {
      "text/html": [
       "<style  type=\"text/css\" >\n",
       "    #T_e3c41f94_6b76_11ea_b6e7_9822efebdaa8row0_col0 {\n",
       "            background-color:  #ffff66;\n",
       "            color:  #000000;\n",
       "        }    #T_e3c41f94_6b76_11ea_b6e7_9822efebdaa8row0_col1 {\n",
       "            background-color:  #cee666;\n",
       "            color:  #000000;\n",
       "        }    #T_e3c41f94_6b76_11ea_b6e7_9822efebdaa8row0_col2 {\n",
       "            background-color:  #f4fa66;\n",
       "            color:  #000000;\n",
       "        }    #T_e3c41f94_6b76_11ea_b6e7_9822efebdaa8row1_col0 {\n",
       "            background-color:  #f6fa66;\n",
       "            color:  #000000;\n",
       "        }    #T_e3c41f94_6b76_11ea_b6e7_9822efebdaa8row1_col1 {\n",
       "            background-color:  #ffff66;\n",
       "            color:  #000000;\n",
       "        }    #T_e3c41f94_6b76_11ea_b6e7_9822efebdaa8row1_col2 {\n",
       "            background-color:  #ffff66;\n",
       "            color:  #000000;\n",
       "        }    #T_e3c41f94_6b76_11ea_b6e7_9822efebdaa8row2_col0 {\n",
       "            background-color:  #60b066;\n",
       "            color:  #000000;\n",
       "        }    #T_e3c41f94_6b76_11ea_b6e7_9822efebdaa8row2_col1 {\n",
       "            background-color:  #dfef66;\n",
       "            color:  #000000;\n",
       "        }    #T_e3c41f94_6b76_11ea_b6e7_9822efebdaa8row2_col2 {\n",
       "            background-color:  #90c866;\n",
       "            color:  #000000;\n",
       "        }    #T_e3c41f94_6b76_11ea_b6e7_9822efebdaa8row3_col0 {\n",
       "            background-color:  #008066;\n",
       "            color:  #f1f1f1;\n",
       "        }    #T_e3c41f94_6b76_11ea_b6e7_9822efebdaa8row3_col1 {\n",
       "            background-color:  #008066;\n",
       "            color:  #f1f1f1;\n",
       "        }    #T_e3c41f94_6b76_11ea_b6e7_9822efebdaa8row3_col2 {\n",
       "            background-color:  #008066;\n",
       "            color:  #f1f1f1;\n",
       "        }</style><table id=\"T_e3c41f94_6b76_11ea_b6e7_9822efebdaa8\" ><thead>    <tr>        <th class=\"index_name level0\" >Survived</th>        <th class=\"col_heading level0 col0\" >0</th>        <th class=\"col_heading level0 col1\" >1</th>        <th class=\"col_heading level0 col2\" >All</th>    </tr>    <tr>        <th class=\"index_name level0\" >Pclass</th>        <th class=\"blank\" ></th>        <th class=\"blank\" ></th>        <th class=\"blank\" ></th>    </tr></thead><tbody>\n",
       "                <tr>\n",
       "                        <th id=\"T_e3c41f94_6b76_11ea_b6e7_9822efebdaa8level0_row0\" class=\"row_heading level0 row0\" >1</th>\n",
       "                        <td id=\"T_e3c41f94_6b76_11ea_b6e7_9822efebdaa8row0_col0\" class=\"data row0 col0\" >80</td>\n",
       "                        <td id=\"T_e3c41f94_6b76_11ea_b6e7_9822efebdaa8row0_col1\" class=\"data row0 col1\" >136</td>\n",
       "                        <td id=\"T_e3c41f94_6b76_11ea_b6e7_9822efebdaa8row0_col2\" class=\"data row0 col2\" >216</td>\n",
       "            </tr>\n",
       "            <tr>\n",
       "                        <th id=\"T_e3c41f94_6b76_11ea_b6e7_9822efebdaa8level0_row1\" class=\"row_heading level0 row1\" >2</th>\n",
       "                        <td id=\"T_e3c41f94_6b76_11ea_b6e7_9822efebdaa8row1_col0\" class=\"data row1 col0\" >97</td>\n",
       "                        <td id=\"T_e3c41f94_6b76_11ea_b6e7_9822efebdaa8row1_col1\" class=\"data row1 col1\" >87</td>\n",
       "                        <td id=\"T_e3c41f94_6b76_11ea_b6e7_9822efebdaa8row1_col2\" class=\"data row1 col2\" >184</td>\n",
       "            </tr>\n",
       "            <tr>\n",
       "                        <th id=\"T_e3c41f94_6b76_11ea_b6e7_9822efebdaa8level0_row2\" class=\"row_heading level0 row2\" >3</th>\n",
       "                        <td id=\"T_e3c41f94_6b76_11ea_b6e7_9822efebdaa8row2_col0\" class=\"data row2 col0\" >372</td>\n",
       "                        <td id=\"T_e3c41f94_6b76_11ea_b6e7_9822efebdaa8row2_col1\" class=\"data row2 col1\" >119</td>\n",
       "                        <td id=\"T_e3c41f94_6b76_11ea_b6e7_9822efebdaa8row2_col2\" class=\"data row2 col2\" >491</td>\n",
       "            </tr>\n",
       "            <tr>\n",
       "                        <th id=\"T_e3c41f94_6b76_11ea_b6e7_9822efebdaa8level0_row3\" class=\"row_heading level0 row3\" >All</th>\n",
       "                        <td id=\"T_e3c41f94_6b76_11ea_b6e7_9822efebdaa8row3_col0\" class=\"data row3 col0\" >549</td>\n",
       "                        <td id=\"T_e3c41f94_6b76_11ea_b6e7_9822efebdaa8row3_col1\" class=\"data row3 col1\" >342</td>\n",
       "                        <td id=\"T_e3c41f94_6b76_11ea_b6e7_9822efebdaa8row3_col2\" class=\"data row3 col2\" >891</td>\n",
       "            </tr>\n",
       "    </tbody></table>"
      ],
      "text/plain": [
       "<pandas.io.formats.style.Styler at 0x25e4e4a3748>"
      ]
     },
     "execution_count": 7,
     "metadata": {},
     "output_type": "execute_result"
    }
   ],
   "source": [
    "# Pclass, Survived 별 count\n",
    "pd.crosstab(data.Pclass, data.Survived, margins=True).style.background_gradient(cmap='summer_r')"
   ]
  },
  {
   "cell_type": "code",
   "execution_count": 8,
   "metadata": {},
   "outputs": [
    {
     "data": {
      "image/png": "[encoded data removed]",
      "text/plain": [
       "<Figure size 504x288 with 2 Axes>"
      ]
     },
     "metadata": {
      "needs_background": "light"
     },
     "output_type": "display_data"
    }
   ],
   "source": [
    "f, ax = plt.subplots(1,2,figsize = (7,4))\n",
    "data['Pclass'].value_counts()[[1,2,3]].plot.bar(color = ['#CD1111'], ax = ax[0])\n",
    "sns.countplot('Pclass',hue = 'Survived', data=data, ax = ax[1])\n",
    "ax[0].set_title('Number Of Passengers By Pclass')\n",
    "ax[0].set_xlabel('Pclass')\n",
    "ax[0].set_ylabel('Count')\n",
    "\n",
    "ax[1].set_title('Pclass:Survived vs Dead')\n",
    "plt.show()"
   ]
  },
  {
   "cell_type": "markdown",
   "metadata": {},
   "source": [
    "사람들은 **돈이 모든 것을 살 수 없다**고 말한다. 그러나 우리는 P클래스가 1인 승객이 구조할 때 매우 높은 우선순위를 부여받았다는 것을 분명히 알 수 있다.P클래스가 3인 승객 수는 훨씬 더 많았지만, 생존자 수는 약 **25%** 정도로 매우 낮다.\n",
    "\n",
    "Pclass 1인 경우 생존율은 약 **63** %이고 Pclass2의 경우 약 **48** %입니다. 그렇기에 돈과 지위가 중요하다는 것을 알 수 있다.\n",
    "\n",
    "좀 더 자세히 관찰하고 다른 흥미로운 관찰 결과를 확인해보자. **Sex**, **Pclass**와 함께 생존율을 확인해보자."
   ]
  },
  {
   "cell_type": "code",
   "execution_count": 9,
   "metadata": {},
   "outputs": [
    {
     "data": {
      "text/html": [
       "<style  type=\"text/css\" >\n",
       "    #T_e3edd3a6_6b76_11ea_96f5_9822efebdaa8row0_col0 {\n",
       "            background-color:  #ffff00;\n",
       "            color:  #000000;\n",
       "        }    #T_e3edd3a6_6b76_11ea_96f5_9822efebdaa8row0_col1 {\n",
       "            background-color:  #ffff00;\n",
       "            color:  #000000;\n",
       "        }    #T_e3edd3a6_6b76_11ea_96f5_9822efebdaa8row0_col2 {\n",
       "            background-color:  #fff100;\n",
       "            color:  #000000;\n",
       "        }    #T_e3edd3a6_6b76_11ea_96f5_9822efebdaa8row0_col3 {\n",
       "            background-color:  #ffff00;\n",
       "            color:  #000000;\n",
       "        }    #T_e3edd3a6_6b76_11ea_96f5_9822efebdaa8row1_col0 {\n",
       "            background-color:  #ff9600;\n",
       "            color:  #000000;\n",
       "        }    #T_e3edd3a6_6b76_11ea_96f5_9822efebdaa8row1_col1 {\n",
       "            background-color:  #ffa300;\n",
       "            color:  #000000;\n",
       "        }    #T_e3edd3a6_6b76_11ea_96f5_9822efebdaa8row1_col2 {\n",
       "            background-color:  #fff100;\n",
       "            color:  #000000;\n",
       "        }    #T_e3edd3a6_6b76_11ea_96f5_9822efebdaa8row1_col3 {\n",
       "            background-color:  #ffcf00;\n",
       "            color:  #000000;\n",
       "        }    #T_e3edd3a6_6b76_11ea_96f5_9822efebdaa8row2_col0 {\n",
       "            background-color:  #ffa700;\n",
       "            color:  #000000;\n",
       "        }    #T_e3edd3a6_6b76_11ea_96f5_9822efebdaa8row2_col1 {\n",
       "            background-color:  #ff8500;\n",
       "            color:  #000000;\n",
       "        }    #T_e3edd3a6_6b76_11ea_96f5_9822efebdaa8row2_col2 {\n",
       "            background-color:  #ff6e00;\n",
       "            color:  #000000;\n",
       "        }    #T_e3edd3a6_6b76_11ea_96f5_9822efebdaa8row2_col3 {\n",
       "            background-color:  #ff8500;\n",
       "            color:  #000000;\n",
       "        }    #T_e3edd3a6_6b76_11ea_96f5_9822efebdaa8row3_col0 {\n",
       "            background-color:  #ffcd00;\n",
       "            color:  #000000;\n",
       "        }    #T_e3edd3a6_6b76_11ea_96f5_9822efebdaa8row3_col1 {\n",
       "            background-color:  #fff000;\n",
       "            color:  #000000;\n",
       "        }    #T_e3edd3a6_6b76_11ea_96f5_9822efebdaa8row3_col2 {\n",
       "            background-color:  #ffff00;\n",
       "            color:  #000000;\n",
       "        }    #T_e3edd3a6_6b76_11ea_96f5_9822efebdaa8row3_col3 {\n",
       "            background-color:  #fff700;\n",
       "            color:  #000000;\n",
       "        }    #T_e3edd3a6_6b76_11ea_96f5_9822efebdaa8row4_col0 {\n",
       "            background-color:  #ff0000;\n",
       "            color:  #f1f1f1;\n",
       "        }    #T_e3edd3a6_6b76_11ea_96f5_9822efebdaa8row4_col1 {\n",
       "            background-color:  #ff0000;\n",
       "            color:  #f1f1f1;\n",
       "        }    #T_e3edd3a6_6b76_11ea_96f5_9822efebdaa8row4_col2 {\n",
       "            background-color:  #ff0000;\n",
       "            color:  #f1f1f1;\n",
       "        }    #T_e3edd3a6_6b76_11ea_96f5_9822efebdaa8row4_col3 {\n",
       "            background-color:  #ff0000;\n",
       "            color:  #f1f1f1;\n",
       "        }</style><table id=\"T_e3edd3a6_6b76_11ea_96f5_9822efebdaa8\" ><thead>    <tr>        <th class=\"blank\" ></th>        <th class=\"index_name level0\" >Pclass</th>        <th class=\"col_heading level0 col0\" >1</th>        <th class=\"col_heading level0 col1\" >2</th>        <th class=\"col_heading level0 col2\" >3</th>        <th class=\"col_heading level0 col3\" >All</th>    </tr>    <tr>        <th class=\"index_name level0\" >Sex</th>        <th class=\"index_name level1\" >Survived</th>        <th class=\"blank\" ></th>        <th class=\"blank\" ></th>        <th class=\"blank\" ></th>        <th class=\"blank\" ></th>    </tr></thead><tbody>\n",
       "                <tr>\n",
       "                        <th id=\"T_e3edd3a6_6b76_11ea_96f5_9822efebdaa8level0_row0\" class=\"row_heading level0 row0\" rowspan=2>female</th>\n",
       "                        <th id=\"T_e3edd3a6_6b76_11ea_96f5_9822efebdaa8level1_row0\" class=\"row_heading level1 row0\" >0</th>\n",
       "                        <td id=\"T_e3edd3a6_6b76_11ea_96f5_9822efebdaa8row0_col0\" class=\"data row0 col0\" >3</td>\n",
       "                        <td id=\"T_e3edd3a6_6b76_11ea_96f5_9822efebdaa8row0_col1\" class=\"data row0 col1\" >6</td>\n",
       "                        <td id=\"T_e3edd3a6_6b76_11ea_96f5_9822efebdaa8row0_col2\" class=\"data row0 col2\" >72</td>\n",
       "                        <td id=\"T_e3edd3a6_6b76_11ea_96f5_9822efebdaa8row0_col3\" class=\"data row0 col3\" >81</td>\n",
       "            </tr>\n",
       "            <tr>\n",
       "                                <th id=\"T_e3edd3a6_6b76_11ea_96f5_9822efebdaa8level1_row1\" class=\"row_heading level1 row1\" >1</th>\n",
       "                        <td id=\"T_e3edd3a6_6b76_11ea_96f5_9822efebdaa8row1_col0\" class=\"data row1 col0\" >91</td>\n",
       "                        <td id=\"T_e3edd3a6_6b76_11ea_96f5_9822efebdaa8row1_col1\" class=\"data row1 col1\" >70</td>\n",
       "                        <td id=\"T_e3edd3a6_6b76_11ea_96f5_9822efebdaa8row1_col2\" class=\"data row1 col2\" >72</td>\n",
       "                        <td id=\"T_e3edd3a6_6b76_11ea_96f5_9822efebdaa8row1_col3\" class=\"data row1 col3\" >233</td>\n",
       "            </tr>\n",
       "            <tr>\n",
       "                        <th id=\"T_e3edd3a6_6b76_11ea_96f5_9822efebdaa8level0_row2\" class=\"row_heading level0 row2\" rowspan=2>male</th>\n",
       "                        <th id=\"T_e3edd3a6_6b76_11ea_96f5_9822efebdaa8level1_row2\" class=\"row_heading level1 row2\" >0</th>\n",
       "                        <td id=\"T_e3edd3a6_6b76_11ea_96f5_9822efebdaa8row2_col0\" class=\"data row2 col0\" >77</td>\n",
       "                        <td id=\"T_e3edd3a6_6b76_11ea_96f5_9822efebdaa8row2_col1\" class=\"data row2 col1\" >91</td>\n",
       "                        <td id=\"T_e3edd3a6_6b76_11ea_96f5_9822efebdaa8row2_col2\" class=\"data row2 col2\" >300</td>\n",
       "                        <td id=\"T_e3edd3a6_6b76_11ea_96f5_9822efebdaa8row2_col3\" class=\"data row2 col3\" >468</td>\n",
       "            </tr>\n",
       "            <tr>\n",
       "                                <th id=\"T_e3edd3a6_6b76_11ea_96f5_9822efebdaa8level1_row3\" class=\"row_heading level1 row3\" >1</th>\n",
       "                        <td id=\"T_e3edd3a6_6b76_11ea_96f5_9822efebdaa8row3_col0\" class=\"data row3 col0\" >45</td>\n",
       "                        <td id=\"T_e3edd3a6_6b76_11ea_96f5_9822efebdaa8row3_col1\" class=\"data row3 col1\" >17</td>\n",
       "                        <td id=\"T_e3edd3a6_6b76_11ea_96f5_9822efebdaa8row3_col2\" class=\"data row3 col2\" >47</td>\n",
       "                        <td id=\"T_e3edd3a6_6b76_11ea_96f5_9822efebdaa8row3_col3\" class=\"data row3 col3\" >109</td>\n",
       "            </tr>\n",
       "            <tr>\n",
       "                        <th id=\"T_e3edd3a6_6b76_11ea_96f5_9822efebdaa8level0_row4\" class=\"row_heading level0 row4\" >All</th>\n",
       "                        <th id=\"T_e3edd3a6_6b76_11ea_96f5_9822efebdaa8level1_row4\" class=\"row_heading level1 row4\" ></th>\n",
       "                        <td id=\"T_e3edd3a6_6b76_11ea_96f5_9822efebdaa8row4_col0\" class=\"data row4 col0\" >216</td>\n",
       "                        <td id=\"T_e3edd3a6_6b76_11ea_96f5_9822efebdaa8row4_col1\" class=\"data row4 col1\" >184</td>\n",
       "                        <td id=\"T_e3edd3a6_6b76_11ea_96f5_9822efebdaa8row4_col2\" class=\"data row4 col2\" >491</td>\n",
       "                        <td id=\"T_e3edd3a6_6b76_11ea_96f5_9822efebdaa8row4_col3\" class=\"data row4 col3\" >891</td>\n",
       "            </tr>\n",
       "    </tbody></table>"
      ],
      "text/plain": [
       "<pandas.io.formats.style.Styler at 0x25e4ec99630>"
      ]
     },
     "execution_count": 9,
     "metadata": {},
     "output_type": "execute_result"
    }
   ],
   "source": [
    "pd.crosstab([data.Sex, data.Survived], data.Pclass, margins = True).style.background_gradient(cmap = 'autumn_r')"
   ]
  },
  {
   "cell_type": "code",
   "execution_count": 10,
   "metadata": {},
   "outputs": [
    {
     "data": {
      "image/png": "[encoded data removed]",
      "text/plain": [
       "<Figure size 430.5x360 with 1 Axes>"
      ]
     },
     "metadata": {
      "needs_background": "light"
     },
     "output_type": "display_data"
    }
   ],
   "source": [
    "sns.factorplot('Pclass', 'Survived',hue= 'Sex',data = data)\n",
    "plt.show()"
   ]
  },
  {
   "cell_type": "markdown",
   "metadata": {},
   "source": [
    "범주별로 쉽게 분류해주는 **FactorPlot**을 이용했다.\n",
    "\n",
    "**CrossTab**, **FactorPlot**을 보면 P클래스가 1인 여성 94명 중 3명만이 사망했기 때문에 P클래스 1의 여성 생존율이 약 95-96%라고 쉽게 알 수 있다.\n",
    "\n",
    "P클래스에 상관없이 여성들은 구조하는 동안 최우선 순위가 주어졌음이 분명하다. 심지어 P클래스1의 남성들도 생존율이 매우 낮다.\n",
    "\n",
    "Pclass도 중요한 feature이다. 다른 feature를 계속 확인해보자."
   ]
  },
  {
   "cell_type": "code",
   "execution_count": 11,
   "metadata": {},
   "outputs": [
    {
     "name": "stdout",
     "output_type": "stream",
     "text": [
      "Oldest Passenger was of: 80 Years\n",
      "Youngest Passenger was of: 0.42 Years\n",
      "Average Age on the ship: 29.70 Years\n"
     ]
    }
   ],
   "source": [
    "print('Oldest Passenger was of:',int(data['Age'].max()),'Years')\n",
    "print('Youngest Passenger was of:',data['Age'].min(),'Years')\n",
    "print('Average Age on the ship: {0:.2f} Years'.format(data['Age'].mean()))"
   ]
  },
  {
   "cell_type": "code",
   "execution_count": 12,
   "metadata": {},
   "outputs": [
    {
     "data": {
      "image/png": "[encoded data removed]",
      "text/plain": [
       "<Figure size 576x288 with 2 Axes>"
      ]
     },
     "metadata": {
      "needs_background": "light"
     },
     "output_type": "display_data"
    }
   ],
   "source": [
    "def make_figure(row, col, n=8,m=4):\n",
    "    n = 4 * col; m = 4 * row\n",
    "    f, ax = plt.subplots(row, col, figsize = (n,m))\n",
    "    return f, ax\n",
    "\n",
    "f, ax = make_figure(1,2)\n",
    "sns.violinplot(\"Pclass\", \"Age\", hue = \"Survived\", data = data, split = True, ax = ax[0])\n",
    "ax[0].set_title('Pcalss and Age vs Survied')\n",
    "ax[0].set_yticks(range(0,110,10))\n",
    "sns.violinplot(\"Sex\", \"Age\", hue= \"Survived\", data = data,split= True, ax=ax[1])\n",
    "ax[1].set_title('Sex and Age vs Survived')\n",
    "ax[1].set_yticks(range(0,110,10))\n",
    "plt.show()"
   ]
  },
  {
   "cell_type": "markdown",
   "metadata": {},
   "source": [
    "- 관찰 결과\n",
    "\n",
    "1) Pclass에 따라 어린이 수가 증가하고 10 세 미만의 어린이 (즉, 어린이)의 생존율은 Pclass에 상관없이 양호해 보인다.\n",
    "\n",
    "2) Pclass가 1인 20-50대의 생존율은 높은 편이고 특히 여성은 더 좋다.\n",
    "\n",
    "3) 남성은 나이가 증가할 수록 생존률이 낮아짐을 볼 수 있다.\n",
    "\n",
    "앞에서 보았듯이, 'Age'는 **177**개의 null 값을 가지고 있다. 이러한 NaN 값을 대체하기 위해 평균 연령으로 할당할 수 있다.\n",
    "\n",
    "하지만 문제는, 많은 다양한 연령대의 사람들이 있다는 것이다. 4세 아이에게 평균 나이인 29를 할당할 수는 없다. 승객이 어떤 연령대에 있는지 알 수 있는 방법이 있을까?\n",
    "\n",
    "우리는 **'Name'**을 확인할 수 있다. 이 feature를 살펴보면 이름에 Mr 또는 Mrs와 같은 인사말이 있음을 알 수 있으므로 Mr 및 Mrs의 평균 값을 각 그룹에 할당 할 수 있다."
   ]
  },
  {
   "cell_type": "code",
   "execution_count": 13,
   "metadata": {},
   "outputs": [
    {
     "data": {
      "text/plain": [
       "0      Mr\n",
       "1     Mrs\n",
       "2    Miss\n",
       "3     Mrs\n",
       "4      Mr\n",
       "Name: Initial, dtype: object"
      ]
     },
     "execution_count": 13,
     "metadata": {},
     "output_type": "execute_result"
    }
   ],
   "source": [
    "data['Initail'] = 0\n",
    "for i in data:\n",
    "    data['Initial'] = data.Name.str.extract('([A-Za-z]+)\\.')\n",
    "    \n",
    "data['Initial'].head()"
   ]
  },
  {
   "cell_type": "code",
   "execution_count": 14,
   "metadata": {},
   "outputs": [
    {
     "data": {
      "text/html": [
       "<style  type=\"text/css\" >\n",
       "    #T_e7ff5cf8_6b76_11ea_ae7a_9822efebdaa8row0_col0 {\n",
       "            background-color:  #ffff66;\n",
       "            color:  #000000;\n",
       "        }    #T_e7ff5cf8_6b76_11ea_ae7a_9822efebdaa8row0_col1 {\n",
       "            background-color:  #ffff66;\n",
       "            color:  #000000;\n",
       "        }    #T_e7ff5cf8_6b76_11ea_ae7a_9822efebdaa8row0_col2 {\n",
       "            background-color:  #008066;\n",
       "            color:  #f1f1f1;\n",
       "        }    #T_e7ff5cf8_6b76_11ea_ae7a_9822efebdaa8row0_col3 {\n",
       "            background-color:  #ffff66;\n",
       "            color:  #000000;\n",
       "        }    #T_e7ff5cf8_6b76_11ea_ae7a_9822efebdaa8row0_col4 {\n",
       "            background-color:  #ffff66;\n",
       "            color:  #000000;\n",
       "        }    #T_e7ff5cf8_6b76_11ea_ae7a_9822efebdaa8row0_col5 {\n",
       "            background-color:  #ffff66;\n",
       "            color:  #000000;\n",
       "        }    #T_e7ff5cf8_6b76_11ea_ae7a_9822efebdaa8row0_col6 {\n",
       "            background-color:  #008066;\n",
       "            color:  #f1f1f1;\n",
       "        }    #T_e7ff5cf8_6b76_11ea_ae7a_9822efebdaa8row0_col7 {\n",
       "            background-color:  #ffff66;\n",
       "            color:  #000000;\n",
       "        }    #T_e7ff5cf8_6b76_11ea_ae7a_9822efebdaa8row0_col8 {\n",
       "            background-color:  #ffff66;\n",
       "            color:  #000000;\n",
       "        }    #T_e7ff5cf8_6b76_11ea_ae7a_9822efebdaa8row0_col9 {\n",
       "            background-color:  #008066;\n",
       "            color:  #f1f1f1;\n",
       "        }    #T_e7ff5cf8_6b76_11ea_ae7a_9822efebdaa8row0_col10 {\n",
       "            background-color:  #008066;\n",
       "            color:  #f1f1f1;\n",
       "        }    #T_e7ff5cf8_6b76_11ea_ae7a_9822efebdaa8row0_col11 {\n",
       "            background-color:  #008066;\n",
       "            color:  #f1f1f1;\n",
       "        }    #T_e7ff5cf8_6b76_11ea_ae7a_9822efebdaa8row0_col12 {\n",
       "            background-color:  #ffff66;\n",
       "            color:  #000000;\n",
       "        }    #T_e7ff5cf8_6b76_11ea_ae7a_9822efebdaa8row0_col13 {\n",
       "            background-color:  #008066;\n",
       "            color:  #f1f1f1;\n",
       "        }    #T_e7ff5cf8_6b76_11ea_ae7a_9822efebdaa8row0_col14 {\n",
       "            background-color:  #008066;\n",
       "            color:  #f1f1f1;\n",
       "        }    #T_e7ff5cf8_6b76_11ea_ae7a_9822efebdaa8row0_col15 {\n",
       "            background-color:  #ffff66;\n",
       "            color:  #000000;\n",
       "        }    #T_e7ff5cf8_6b76_11ea_ae7a_9822efebdaa8row0_col16 {\n",
       "            background-color:  #ffff66;\n",
       "            color:  #000000;\n",
       "        }    #T_e7ff5cf8_6b76_11ea_ae7a_9822efebdaa8row1_col0 {\n",
       "            background-color:  #008066;\n",
       "            color:  #f1f1f1;\n",
       "        }    #T_e7ff5cf8_6b76_11ea_ae7a_9822efebdaa8row1_col1 {\n",
       "            background-color:  #008066;\n",
       "            color:  #f1f1f1;\n",
       "        }    #T_e7ff5cf8_6b76_11ea_ae7a_9822efebdaa8row1_col2 {\n",
       "            background-color:  #ffff66;\n",
       "            color:  #000000;\n",
       "        }    #T_e7ff5cf8_6b76_11ea_ae7a_9822efebdaa8row1_col3 {\n",
       "            background-color:  #008066;\n",
       "            color:  #f1f1f1;\n",
       "        }    #T_e7ff5cf8_6b76_11ea_ae7a_9822efebdaa8row1_col4 {\n",
       "            background-color:  #008066;\n",
       "            color:  #f1f1f1;\n",
       "        }    #T_e7ff5cf8_6b76_11ea_ae7a_9822efebdaa8row1_col5 {\n",
       "            background-color:  #008066;\n",
       "            color:  #f1f1f1;\n",
       "        }    #T_e7ff5cf8_6b76_11ea_ae7a_9822efebdaa8row1_col6 {\n",
       "            background-color:  #ffff66;\n",
       "            color:  #000000;\n",
       "        }    #T_e7ff5cf8_6b76_11ea_ae7a_9822efebdaa8row1_col7 {\n",
       "            background-color:  #008066;\n",
       "            color:  #f1f1f1;\n",
       "        }    #T_e7ff5cf8_6b76_11ea_ae7a_9822efebdaa8row1_col8 {\n",
       "            background-color:  #008066;\n",
       "            color:  #f1f1f1;\n",
       "        }    #T_e7ff5cf8_6b76_11ea_ae7a_9822efebdaa8row1_col9 {\n",
       "            background-color:  #ffff66;\n",
       "            color:  #000000;\n",
       "        }    #T_e7ff5cf8_6b76_11ea_ae7a_9822efebdaa8row1_col10 {\n",
       "            background-color:  #ffff66;\n",
       "            color:  #000000;\n",
       "        }    #T_e7ff5cf8_6b76_11ea_ae7a_9822efebdaa8row1_col11 {\n",
       "            background-color:  #ffff66;\n",
       "            color:  #000000;\n",
       "        }    #T_e7ff5cf8_6b76_11ea_ae7a_9822efebdaa8row1_col12 {\n",
       "            background-color:  #008066;\n",
       "            color:  #f1f1f1;\n",
       "        }    #T_e7ff5cf8_6b76_11ea_ae7a_9822efebdaa8row1_col13 {\n",
       "            background-color:  #ffff66;\n",
       "            color:  #000000;\n",
       "        }    #T_e7ff5cf8_6b76_11ea_ae7a_9822efebdaa8row1_col14 {\n",
       "            background-color:  #ffff66;\n",
       "            color:  #000000;\n",
       "        }    #T_e7ff5cf8_6b76_11ea_ae7a_9822efebdaa8row1_col15 {\n",
       "            background-color:  #008066;\n",
       "            color:  #f1f1f1;\n",
       "        }    #T_e7ff5cf8_6b76_11ea_ae7a_9822efebdaa8row1_col16 {\n",
       "            background-color:  #008066;\n",
       "            color:  #f1f1f1;\n",
       "        }</style><table id=\"T_e7ff5cf8_6b76_11ea_ae7a_9822efebdaa8\" ><thead>    <tr>        <th class=\"index_name level0\" >Initial</th>        <th class=\"col_heading level0 col0\" >Capt</th>        <th class=\"col_heading level0 col1\" >Col</th>        <th class=\"col_heading level0 col2\" >Countess</th>        <th class=\"col_heading level0 col3\" >Don</th>        <th class=\"col_heading level0 col4\" >Dr</th>        <th class=\"col_heading level0 col5\" >Jonkheer</th>        <th class=\"col_heading level0 col6\" >Lady</th>        <th class=\"col_heading level0 col7\" >Major</th>        <th class=\"col_heading level0 col8\" >Master</th>        <th class=\"col_heading level0 col9\" >Miss</th>        <th class=\"col_heading level0 col10\" >Mlle</th>        <th class=\"col_heading level0 col11\" >Mme</th>        <th class=\"col_heading level0 col12\" >Mr</th>        <th class=\"col_heading level0 col13\" >Mrs</th>        <th class=\"col_heading level0 col14\" >Ms</th>        <th class=\"col_heading level0 col15\" >Rev</th>        <th class=\"col_heading level0 col16\" >Sir</th>    </tr>    <tr>        <th class=\"index_name level0\" >Sex</th>        <th class=\"blank\" ></th>        <th class=\"blank\" ></th>        <th class=\"blank\" ></th>        <th class=\"blank\" ></th>        <th class=\"blank\" ></th>        <th class=\"blank\" ></th>        <th class=\"blank\" ></th>        <th class=\"blank\" ></th>        <th class=\"blank\" ></th>        <th class=\"blank\" ></th>        <th class=\"blank\" ></th>        <th class=\"blank\" ></th>        <th class=\"blank\" ></th>        <th class=\"blank\" ></th>        <th class=\"blank\" ></th>        <th class=\"blank\" ></th>        <th class=\"blank\" ></th>    </tr></thead><tbody>\n",
       "                <tr>\n",
       "                        <th id=\"T_e7ff5cf8_6b76_11ea_ae7a_9822efebdaa8level0_row0\" class=\"row_heading level0 row0\" >female</th>\n",
       "                        <td id=\"T_e7ff5cf8_6b76_11ea_ae7a_9822efebdaa8row0_col0\" class=\"data row0 col0\" >0</td>\n",
       "                        <td id=\"T_e7ff5cf8_6b76_11ea_ae7a_9822efebdaa8row0_col1\" class=\"data row0 col1\" >0</td>\n",
       "                        <td id=\"T_e7ff5cf8_6b76_11ea_ae7a_9822efebdaa8row0_col2\" class=\"data row0 col2\" >1</td>\n",
       "                        <td id=\"T_e7ff5cf8_6b76_11ea_ae7a_9822efebdaa8row0_col3\" class=\"data row0 col3\" >0</td>\n",
       "                        <td id=\"T_e7ff5cf8_6b76_11ea_ae7a_9822efebdaa8row0_col4\" class=\"data row0 col4\" >1</td>\n",
       "                        <td id=\"T_e7ff5cf8_6b76_11ea_ae7a_9822efebdaa8row0_col5\" class=\"data row0 col5\" >0</td>\n",
       "                        <td id=\"T_e7ff5cf8_6b76_11ea_ae7a_9822efebdaa8row0_col6\" class=\"data row0 col6\" >1</td>\n",
       "                        <td id=\"T_e7ff5cf8_6b76_11ea_ae7a_9822efebdaa8row0_col7\" class=\"data row0 col7\" >0</td>\n",
       "                        <td id=\"T_e7ff5cf8_6b76_11ea_ae7a_9822efebdaa8row0_col8\" class=\"data row0 col8\" >0</td>\n",
       "                        <td id=\"T_e7ff5cf8_6b76_11ea_ae7a_9822efebdaa8row0_col9\" class=\"data row0 col9\" >182</td>\n",
       "                        <td id=\"T_e7ff5cf8_6b76_11ea_ae7a_9822efebdaa8row0_col10\" class=\"data row0 col10\" >2</td>\n",
       "                        <td id=\"T_e7ff5cf8_6b76_11ea_ae7a_9822efebdaa8row0_col11\" class=\"data row0 col11\" >1</td>\n",
       "                        <td id=\"T_e7ff5cf8_6b76_11ea_ae7a_9822efebdaa8row0_col12\" class=\"data row0 col12\" >0</td>\n",
       "                        <td id=\"T_e7ff5cf8_6b76_11ea_ae7a_9822efebdaa8row0_col13\" class=\"data row0 col13\" >125</td>\n",
       "                        <td id=\"T_e7ff5cf8_6b76_11ea_ae7a_9822efebdaa8row0_col14\" class=\"data row0 col14\" >1</td>\n",
       "                        <td id=\"T_e7ff5cf8_6b76_11ea_ae7a_9822efebdaa8row0_col15\" class=\"data row0 col15\" >0</td>\n",
       "                        <td id=\"T_e7ff5cf8_6b76_11ea_ae7a_9822efebdaa8row0_col16\" class=\"data row0 col16\" >0</td>\n",
       "            </tr>\n",
       "            <tr>\n",
       "                        <th id=\"T_e7ff5cf8_6b76_11ea_ae7a_9822efebdaa8level0_row1\" class=\"row_heading level0 row1\" >male</th>\n",
       "                        <td id=\"T_e7ff5cf8_6b76_11ea_ae7a_9822efebdaa8row1_col0\" class=\"data row1 col0\" >1</td>\n",
       "                        <td id=\"T_e7ff5cf8_6b76_11ea_ae7a_9822efebdaa8row1_col1\" class=\"data row1 col1\" >2</td>\n",
       "                        <td id=\"T_e7ff5cf8_6b76_11ea_ae7a_9822efebdaa8row1_col2\" class=\"data row1 col2\" >0</td>\n",
       "                        <td id=\"T_e7ff5cf8_6b76_11ea_ae7a_9822efebdaa8row1_col3\" class=\"data row1 col3\" >1</td>\n",
       "                        <td id=\"T_e7ff5cf8_6b76_11ea_ae7a_9822efebdaa8row1_col4\" class=\"data row1 col4\" >6</td>\n",
       "                        <td id=\"T_e7ff5cf8_6b76_11ea_ae7a_9822efebdaa8row1_col5\" class=\"data row1 col5\" >1</td>\n",
       "                        <td id=\"T_e7ff5cf8_6b76_11ea_ae7a_9822efebdaa8row1_col6\" class=\"data row1 col6\" >0</td>\n",
       "                        <td id=\"T_e7ff5cf8_6b76_11ea_ae7a_9822efebdaa8row1_col7\" class=\"data row1 col7\" >2</td>\n",
       "                        <td id=\"T_e7ff5cf8_6b76_11ea_ae7a_9822efebdaa8row1_col8\" class=\"data row1 col8\" >40</td>\n",
       "                        <td id=\"T_e7ff5cf8_6b76_11ea_ae7a_9822efebdaa8row1_col9\" class=\"data row1 col9\" >0</td>\n",
       "                        <td id=\"T_e7ff5cf8_6b76_11ea_ae7a_9822efebdaa8row1_col10\" class=\"data row1 col10\" >0</td>\n",
       "                        <td id=\"T_e7ff5cf8_6b76_11ea_ae7a_9822efebdaa8row1_col11\" class=\"data row1 col11\" >0</td>\n",
       "                        <td id=\"T_e7ff5cf8_6b76_11ea_ae7a_9822efebdaa8row1_col12\" class=\"data row1 col12\" >517</td>\n",
       "                        <td id=\"T_e7ff5cf8_6b76_11ea_ae7a_9822efebdaa8row1_col13\" class=\"data row1 col13\" >0</td>\n",
       "                        <td id=\"T_e7ff5cf8_6b76_11ea_ae7a_9822efebdaa8row1_col14\" class=\"data row1 col14\" >0</td>\n",
       "                        <td id=\"T_e7ff5cf8_6b76_11ea_ae7a_9822efebdaa8row1_col15\" class=\"data row1 col15\" >6</td>\n",
       "                        <td id=\"T_e7ff5cf8_6b76_11ea_ae7a_9822efebdaa8row1_col16\" class=\"data row1 col16\" >1</td>\n",
       "            </tr>\n",
       "    </tbody></table>"
      ],
      "text/plain": [
       "<pandas.io.formats.style.Styler at 0x25e4edfa128>"
      ]
     },
     "execution_count": 14,
     "metadata": {},
     "output_type": "execute_result"
    }
   ],
   "source": [
    "pd.crosstab(data.Initial, data.Sex).T.style.background_gradient(cmap='summer_r')"
   ]
  },
  {
   "cell_type": "code",
   "execution_count": 15,
   "metadata": {},
   "outputs": [
    {
     "data": {
      "text/plain": [
       "Initial\n",
       "Master     4.574167\n",
       "Miss      21.860000\n",
       "Mr        32.739609\n",
       "Mrs       35.981818\n",
       "Other     45.888889\n",
       "Name: Age, dtype: float64"
      ]
     },
     "execution_count": 15,
     "metadata": {},
     "output_type": "execute_result"
    }
   ],
   "source": [
    "# 위의 값을 바탕으로 여성과 남성으로 나눈다.\n",
    "data['Initial'].replace(['Mlle','Mme','Ms','Dr','Major','Lady','Countess','Jonkheer','Col','Rev','Capt','Sir','Don'],\n",
    "                        ['Miss','Miss','Miss','Mr','Mr','Mrs','Mrs','Other','Other','Other','Mr','Mr','Mr'],inplace=True)\n",
    "\n",
    "data.groupby('Initial')['Age'].mean()"
   ]
  },
  {
   "cell_type": "code",
   "execution_count": 16,
   "metadata": {},
   "outputs": [
    {
     "data": {
      "text/plain": [
       "False"
      ]
     },
     "execution_count": 16,
     "metadata": {},
     "output_type": "execute_result"
    }
   ],
   "source": [
    "def filling_NaN_Age(data):\n",
    "    if np.isnan(data.Age):\n",
    "        if data.Initial == 'Mr': return 33\n",
    "        elif data.Initial == 'Mrs': return 36\n",
    "        elif data.Initial == 'Master': return 5\n",
    "        elif data.Initial == 'Miss': return 22\n",
    "        else: return 46\n",
    "    else:\n",
    "        return data.Age\n",
    "\n",
    "data.Age = data.apply(filling_NaN_Age, axis = 1)\n",
    "data.Age.isnull().any() # null 값이 없음을 확인"
   ]
  },
  {
   "cell_type": "code",
   "execution_count": 17,
   "metadata": {},
   "outputs": [
    {
     "data": {
      "image/png": "[encoded data removed]",
      "text/plain": [
       "<Figure size 576x288 with 2 Axes>"
      ]
     },
     "metadata": {
      "needs_background": "light"
     },
     "output_type": "display_data"
    }
   ],
   "source": [
    "f, ax = make_figure(1,2)\n",
    "# edgdcolor : bins 경계선\n",
    "data[data['Survived']==0].Age.plot.hist(ax=ax[0], bins=20, edgecolor = 'black', color = 'red')\n",
    "ax[0].set_title('Survived= 0')\n",
    "ax[0].set_xticks(list(range(0,85,5)))\n",
    "data[data['Survived']==1].Age.plot.hist(ax=ax[1],color='green',bins=20,edgecolor='black')\n",
    "ax[1].set_title('Survived= 1')\n",
    "ax[1].set_xticks(list(range(0,85,5)))\n",
    "plt.show()"
   ]
  },
  {
   "cell_type": "markdown",
   "metadata": {},
   "source": [
    "- 관찰 결과\n",
    "\n",
    "1) 유아(5세 미만)는 많이 생존했다.(여성과 아동 우선 정책).\n",
    "\n",
    "2) 가장 오래된 승객은 생존했다.(80세)\n",
    "\n",
    "3) 30-40세의 연령 그룹에서 가장 많은 사망자가 발생했다."
   ]
  },
  {
   "cell_type": "code",
   "execution_count": 20,
   "metadata": {},
   "outputs": [
    {
     "data": {
      "text/plain": [
       "<seaborn.axisgrid.FacetGrid at 0x25e514374e0>"
      ]
     },
     "execution_count": 20,
     "metadata": {},
     "output_type": "execute_result"
    },
    {
     "data": {
      "image/png": "[encoded data removed]",
      "text/plain": [
       "<Figure size 1800x360 with 5 Axes>"
      ]
     },
     "metadata": {
      "needs_background": "light"
     },
     "output_type": "display_data"
    }
   ],
   "source": [
    "sns.factorplot(data= data, x= 'Pclass', y= 'Survived', col= 'Initial')"
   ]
  },
  {
   "cell_type": "markdown",
   "metadata": {},
   "source": [
    "- 여성과 아이는 Pclass와 상관없이 우선 순위이다."
   ]
  },
  {
   "cell_type": "code",
   "execution_count": 27,
   "metadata": {},
   "outputs": [
    {
     "data": {
      "text/html": [
       "<style  type=\"text/css\" >\n",
       "    #T_dde87952_6b78_11ea_87a8_9822efebdaa8row0_col0 {\n",
       "            background-color:  #fcfe66;\n",
       "            color:  #000000;\n",
       "        }    #T_dde87952_6b78_11ea_87a8_9822efebdaa8row0_col1 {\n",
       "            background-color:  #d2e866;\n",
       "            color:  #000000;\n",
       "        }    #T_dde87952_6b78_11ea_87a8_9822efebdaa8row0_col2 {\n",
       "            background-color:  #f2f866;\n",
       "            color:  #000000;\n",
       "        }    #T_dde87952_6b78_11ea_87a8_9822efebdaa8row0_col3 {\n",
       "            background-color:  #d8ec66;\n",
       "            color:  #000000;\n",
       "        }    #T_dde87952_6b78_11ea_87a8_9822efebdaa8row0_col4 {\n",
       "            background-color:  #e8f466;\n",
       "            color:  #000000;\n",
       "        }    #T_dde87952_6b78_11ea_87a8_9822efebdaa8row1_col0 {\n",
       "            background-color:  #ffff66;\n",
       "            color:  #000000;\n",
       "        }    #T_dde87952_6b78_11ea_87a8_9822efebdaa8row1_col1 {\n",
       "            background-color:  #f9fc66;\n",
       "            color:  #000000;\n",
       "        }    #T_dde87952_6b78_11ea_87a8_9822efebdaa8row1_col2 {\n",
       "            background-color:  #fcfe66;\n",
       "            color:  #000000;\n",
       "        }    #T_dde87952_6b78_11ea_87a8_9822efebdaa8row1_col3 {\n",
       "            background-color:  #fbfd66;\n",
       "            color:  #000000;\n",
       "        }    #T_dde87952_6b78_11ea_87a8_9822efebdaa8row1_col4 {\n",
       "            background-color:  #fbfd66;\n",
       "            color:  #000000;\n",
       "        }    #T_dde87952_6b78_11ea_87a8_9822efebdaa8row2_col0 {\n",
       "            background-color:  #e6f266;\n",
       "            color:  #000000;\n",
       "        }    #T_dde87952_6b78_11ea_87a8_9822efebdaa8row2_col1 {\n",
       "            background-color:  #f0f866;\n",
       "            color:  #000000;\n",
       "        }    #T_dde87952_6b78_11ea_87a8_9822efebdaa8row2_col2 {\n",
       "            background-color:  #eef666;\n",
       "            color:  #000000;\n",
       "        }    #T_dde87952_6b78_11ea_87a8_9822efebdaa8row2_col3 {\n",
       "            background-color:  #e8f466;\n",
       "            color:  #000000;\n",
       "        }    #T_dde87952_6b78_11ea_87a8_9822efebdaa8row2_col4 {\n",
       "            background-color:  #edf666;\n",
       "            color:  #000000;\n",
       "        }    #T_dde87952_6b78_11ea_87a8_9822efebdaa8row3_col0 {\n",
       "            background-color:  #ffff66;\n",
       "            color:  #000000;\n",
       "        }    #T_dde87952_6b78_11ea_87a8_9822efebdaa8row3_col1 {\n",
       "            background-color:  #ffff66;\n",
       "            color:  #000000;\n",
       "        }    #T_dde87952_6b78_11ea_87a8_9822efebdaa8row3_col2 {\n",
       "            background-color:  #ffff66;\n",
       "            color:  #000000;\n",
       "        }    #T_dde87952_6b78_11ea_87a8_9822efebdaa8row3_col3 {\n",
       "            background-color:  #ffff66;\n",
       "            color:  #000000;\n",
       "        }    #T_dde87952_6b78_11ea_87a8_9822efebdaa8row3_col4 {\n",
       "            background-color:  #ffff66;\n",
       "            color:  #000000;\n",
       "        }    #T_dde87952_6b78_11ea_87a8_9822efebdaa8row4_col0 {\n",
       "            background-color:  #ffff66;\n",
       "            color:  #000000;\n",
       "        }    #T_dde87952_6b78_11ea_87a8_9822efebdaa8row4_col1 {\n",
       "            background-color:  #fefe66;\n",
       "            color:  #000000;\n",
       "        }    #T_dde87952_6b78_11ea_87a8_9822efebdaa8row4_col2 {\n",
       "            background-color:  #ffff66;\n",
       "            color:  #000000;\n",
       "        }    #T_dde87952_6b78_11ea_87a8_9822efebdaa8row4_col3 {\n",
       "            background-color:  #ffff66;\n",
       "            color:  #000000;\n",
       "        }    #T_dde87952_6b78_11ea_87a8_9822efebdaa8row4_col4 {\n",
       "            background-color:  #ffff66;\n",
       "            color:  #000000;\n",
       "        }    #T_dde87952_6b78_11ea_87a8_9822efebdaa8row5_col0 {\n",
       "            background-color:  #e3f166;\n",
       "            color:  #000000;\n",
       "        }    #T_dde87952_6b78_11ea_87a8_9822efebdaa8row5_col1 {\n",
       "            background-color:  #e6f266;\n",
       "            color:  #000000;\n",
       "        }    #T_dde87952_6b78_11ea_87a8_9822efebdaa8row5_col2 {\n",
       "            background-color:  #ecf666;\n",
       "            color:  #000000;\n",
       "        }    #T_dde87952_6b78_11ea_87a8_9822efebdaa8row5_col3 {\n",
       "            background-color:  #f8fc66;\n",
       "            color:  #000000;\n",
       "        }    #T_dde87952_6b78_11ea_87a8_9822efebdaa8row5_col4 {\n",
       "            background-color:  #ebf566;\n",
       "            color:  #000000;\n",
       "        }    #T_dde87952_6b78_11ea_87a8_9822efebdaa8row6_col0 {\n",
       "            background-color:  #f9fc66;\n",
       "            color:  #000000;\n",
       "        }    #T_dde87952_6b78_11ea_87a8_9822efebdaa8row6_col1 {\n",
       "            background-color:  #cde666;\n",
       "            color:  #000000;\n",
       "        }    #T_dde87952_6b78_11ea_87a8_9822efebdaa8row6_col2 {\n",
       "            background-color:  #e4f266;\n",
       "            color:  #000000;\n",
       "        }    #T_dde87952_6b78_11ea_87a8_9822efebdaa8row6_col3 {\n",
       "            background-color:  #bede66;\n",
       "            color:  #000000;\n",
       "        }    #T_dde87952_6b78_11ea_87a8_9822efebdaa8row6_col4 {\n",
       "            background-color:  #dbed66;\n",
       "            color:  #000000;\n",
       "        }    #T_dde87952_6b78_11ea_87a8_9822efebdaa8row7_col0 {\n",
       "            background-color:  #edf666;\n",
       "            color:  #000000;\n",
       "        }    #T_dde87952_6b78_11ea_87a8_9822efebdaa8row7_col1 {\n",
       "            background-color:  #bdde66;\n",
       "            color:  #000000;\n",
       "        }    #T_dde87952_6b78_11ea_87a8_9822efebdaa8row7_col2 {\n",
       "            background-color:  #d3e966;\n",
       "            color:  #000000;\n",
       "        }    #T_dde87952_6b78_11ea_87a8_9822efebdaa8row7_col3 {\n",
       "            background-color:  #dcee66;\n",
       "            color:  #000000;\n",
       "        }    #T_dde87952_6b78_11ea_87a8_9822efebdaa8row7_col4 {\n",
       "            background-color:  #d1e866;\n",
       "            color:  #000000;\n",
       "        }    #T_dde87952_6b78_11ea_87a8_9822efebdaa8row8_col0 {\n",
       "            background-color:  #52a866;\n",
       "            color:  #000000;\n",
       "        }    #T_dde87952_6b78_11ea_87a8_9822efebdaa8row8_col1 {\n",
       "            background-color:  #dcee66;\n",
       "            color:  #000000;\n",
       "        }    #T_dde87952_6b78_11ea_87a8_9822efebdaa8row8_col2 {\n",
       "            background-color:  #81c066;\n",
       "            color:  #000000;\n",
       "        }    #T_dde87952_6b78_11ea_87a8_9822efebdaa8row8_col3 {\n",
       "            background-color:  #b0d866;\n",
       "            color:  #000000;\n",
       "        }    #T_dde87952_6b78_11ea_87a8_9822efebdaa8row8_col4 {\n",
       "            background-color:  #9acc66;\n",
       "            color:  #000000;\n",
       "        }    #T_dde87952_6b78_11ea_87a8_9822efebdaa8row9_col0 {\n",
       "            background-color:  #008066;\n",
       "            color:  #f1f1f1;\n",
       "        }    #T_dde87952_6b78_11ea_87a8_9822efebdaa8row9_col1 {\n",
       "            background-color:  #008066;\n",
       "            color:  #f1f1f1;\n",
       "        }    #T_dde87952_6b78_11ea_87a8_9822efebdaa8row9_col2 {\n",
       "            background-color:  #008066;\n",
       "            color:  #f1f1f1;\n",
       "        }    #T_dde87952_6b78_11ea_87a8_9822efebdaa8row9_col3 {\n",
       "            background-color:  #008066;\n",
       "            color:  #f1f1f1;\n",
       "        }    #T_dde87952_6b78_11ea_87a8_9822efebdaa8row9_col4 {\n",
       "            background-color:  #008066;\n",
       "            color:  #f1f1f1;\n",
       "        }</style><table id=\"T_dde87952_6b78_11ea_87a8_9822efebdaa8\" ><thead>    <tr>        <th class=\"blank\" ></th>        <th class=\"index_name level0\" >Sex</th>        <th class=\"col_heading level0 col0\" colspan=2>female</th>        <th class=\"col_heading level0 col2\" colspan=2>male</th>        <th class=\"col_heading level0 col4\" >All</th>    </tr>    <tr>        <th class=\"blank\" ></th>        <th class=\"index_name level1\" >Survived</th>        <th class=\"col_heading level1 col0\" >0</th>        <th class=\"col_heading level1 col1\" >1</th>        <th class=\"col_heading level1 col2\" >0</th>        <th class=\"col_heading level1 col3\" >1</th>        <th class=\"col_heading level1 col4\" ></th>    </tr>    <tr>        <th class=\"index_name level0\" >Embarked</th>        <th class=\"index_name level1\" >Pclass</th>        <th class=\"blank\" ></th>        <th class=\"blank\" ></th>        <th class=\"blank\" ></th>        <th class=\"blank\" ></th>        <th class=\"blank\" ></th>    </tr></thead><tbody>\n",
       "                <tr>\n",
       "                        <th id=\"T_dde87952_6b78_11ea_87a8_9822efebdaa8level0_row0\" class=\"row_heading level0 row0\" rowspan=3>C</th>\n",
       "                        <th id=\"T_dde87952_6b78_11ea_87a8_9822efebdaa8level1_row0\" class=\"row_heading level1 row0\" >1</th>\n",
       "                        <td id=\"T_dde87952_6b78_11ea_87a8_9822efebdaa8row0_col0\" class=\"data row0 col0\" >1</td>\n",
       "                        <td id=\"T_dde87952_6b78_11ea_87a8_9822efebdaa8row0_col1\" class=\"data row0 col1\" >42</td>\n",
       "                        <td id=\"T_dde87952_6b78_11ea_87a8_9822efebdaa8row0_col2\" class=\"data row0 col2\" >25</td>\n",
       "                        <td id=\"T_dde87952_6b78_11ea_87a8_9822efebdaa8row0_col3\" class=\"data row0 col3\" >17</td>\n",
       "                        <td id=\"T_dde87952_6b78_11ea_87a8_9822efebdaa8row0_col4\" class=\"data row0 col4\" >85</td>\n",
       "            </tr>\n",
       "            <tr>\n",
       "                                <th id=\"T_dde87952_6b78_11ea_87a8_9822efebdaa8level1_row1\" class=\"row_heading level1 row1\" >2</th>\n",
       "                        <td id=\"T_dde87952_6b78_11ea_87a8_9822efebdaa8row1_col0\" class=\"data row1 col0\" >0</td>\n",
       "                        <td id=\"T_dde87952_6b78_11ea_87a8_9822efebdaa8row1_col1\" class=\"data row1 col1\" >7</td>\n",
       "                        <td id=\"T_dde87952_6b78_11ea_87a8_9822efebdaa8row1_col2\" class=\"data row1 col2\" >8</td>\n",
       "                        <td id=\"T_dde87952_6b78_11ea_87a8_9822efebdaa8row1_col3\" class=\"data row1 col3\" >2</td>\n",
       "                        <td id=\"T_dde87952_6b78_11ea_87a8_9822efebdaa8row1_col4\" class=\"data row1 col4\" >17</td>\n",
       "            </tr>\n",
       "            <tr>\n",
       "                                <th id=\"T_dde87952_6b78_11ea_87a8_9822efebdaa8level1_row2\" class=\"row_heading level1 row2\" >3</th>\n",
       "                        <td id=\"T_dde87952_6b78_11ea_87a8_9822efebdaa8row2_col0\" class=\"data row2 col0\" >8</td>\n",
       "                        <td id=\"T_dde87952_6b78_11ea_87a8_9822efebdaa8row2_col1\" class=\"data row2 col1\" >15</td>\n",
       "                        <td id=\"T_dde87952_6b78_11ea_87a8_9822efebdaa8row2_col2\" class=\"data row2 col2\" >33</td>\n",
       "                        <td id=\"T_dde87952_6b78_11ea_87a8_9822efebdaa8row2_col3\" class=\"data row2 col3\" >10</td>\n",
       "                        <td id=\"T_dde87952_6b78_11ea_87a8_9822efebdaa8row2_col4\" class=\"data row2 col4\" >66</td>\n",
       "            </tr>\n",
       "            <tr>\n",
       "                        <th id=\"T_dde87952_6b78_11ea_87a8_9822efebdaa8level0_row3\" class=\"row_heading level0 row3\" rowspan=3>Q</th>\n",
       "                        <th id=\"T_dde87952_6b78_11ea_87a8_9822efebdaa8level1_row3\" class=\"row_heading level1 row3\" >1</th>\n",
       "                        <td id=\"T_dde87952_6b78_11ea_87a8_9822efebdaa8row3_col0\" class=\"data row3 col0\" >0</td>\n",
       "                        <td id=\"T_dde87952_6b78_11ea_87a8_9822efebdaa8row3_col1\" class=\"data row3 col1\" >1</td>\n",
       "                        <td id=\"T_dde87952_6b78_11ea_87a8_9822efebdaa8row3_col2\" class=\"data row3 col2\" >1</td>\n",
       "                        <td id=\"T_dde87952_6b78_11ea_87a8_9822efebdaa8row3_col3\" class=\"data row3 col3\" >0</td>\n",
       "                        <td id=\"T_dde87952_6b78_11ea_87a8_9822efebdaa8row3_col4\" class=\"data row3 col4\" >2</td>\n",
       "            </tr>\n",
       "            <tr>\n",
       "                                <th id=\"T_dde87952_6b78_11ea_87a8_9822efebdaa8level1_row4\" class=\"row_heading level1 row4\" >2</th>\n",
       "                        <td id=\"T_dde87952_6b78_11ea_87a8_9822efebdaa8row4_col0\" class=\"data row4 col0\" >0</td>\n",
       "                        <td id=\"T_dde87952_6b78_11ea_87a8_9822efebdaa8row4_col1\" class=\"data row4 col1\" >2</td>\n",
       "                        <td id=\"T_dde87952_6b78_11ea_87a8_9822efebdaa8row4_col2\" class=\"data row4 col2\" >1</td>\n",
       "                        <td id=\"T_dde87952_6b78_11ea_87a8_9822efebdaa8row4_col3\" class=\"data row4 col3\" >0</td>\n",
       "                        <td id=\"T_dde87952_6b78_11ea_87a8_9822efebdaa8row4_col4\" class=\"data row4 col4\" >3</td>\n",
       "            </tr>\n",
       "            <tr>\n",
       "                                <th id=\"T_dde87952_6b78_11ea_87a8_9822efebdaa8level1_row5\" class=\"row_heading level1 row5\" >3</th>\n",
       "                        <td id=\"T_dde87952_6b78_11ea_87a8_9822efebdaa8row5_col0\" class=\"data row5 col0\" >9</td>\n",
       "                        <td id=\"T_dde87952_6b78_11ea_87a8_9822efebdaa8row5_col1\" class=\"data row5 col1\" >24</td>\n",
       "                        <td id=\"T_dde87952_6b78_11ea_87a8_9822efebdaa8row5_col2\" class=\"data row5 col2\" >36</td>\n",
       "                        <td id=\"T_dde87952_6b78_11ea_87a8_9822efebdaa8row5_col3\" class=\"data row5 col3\" >3</td>\n",
       "                        <td id=\"T_dde87952_6b78_11ea_87a8_9822efebdaa8row5_col4\" class=\"data row5 col4\" >72</td>\n",
       "            </tr>\n",
       "            <tr>\n",
       "                        <th id=\"T_dde87952_6b78_11ea_87a8_9822efebdaa8level0_row6\" class=\"row_heading level0 row6\" rowspan=3>S</th>\n",
       "                        <th id=\"T_dde87952_6b78_11ea_87a8_9822efebdaa8level1_row6\" class=\"row_heading level1 row6\" >1</th>\n",
       "                        <td id=\"T_dde87952_6b78_11ea_87a8_9822efebdaa8row6_col0\" class=\"data row6 col0\" >2</td>\n",
       "                        <td id=\"T_dde87952_6b78_11ea_87a8_9822efebdaa8row6_col1\" class=\"data row6 col1\" >46</td>\n",
       "                        <td id=\"T_dde87952_6b78_11ea_87a8_9822efebdaa8row6_col2\" class=\"data row6 col2\" >51</td>\n",
       "                        <td id=\"T_dde87952_6b78_11ea_87a8_9822efebdaa8row6_col3\" class=\"data row6 col3\" >28</td>\n",
       "                        <td id=\"T_dde87952_6b78_11ea_87a8_9822efebdaa8row6_col4\" class=\"data row6 col4\" >127</td>\n",
       "            </tr>\n",
       "            <tr>\n",
       "                                <th id=\"T_dde87952_6b78_11ea_87a8_9822efebdaa8level1_row7\" class=\"row_heading level1 row7\" >2</th>\n",
       "                        <td id=\"T_dde87952_6b78_11ea_87a8_9822efebdaa8row7_col0\" class=\"data row7 col0\" >6</td>\n",
       "                        <td id=\"T_dde87952_6b78_11ea_87a8_9822efebdaa8row7_col1\" class=\"data row7 col1\" >61</td>\n",
       "                        <td id=\"T_dde87952_6b78_11ea_87a8_9822efebdaa8row7_col2\" class=\"data row7 col2\" >82</td>\n",
       "                        <td id=\"T_dde87952_6b78_11ea_87a8_9822efebdaa8row7_col3\" class=\"data row7 col3\" >15</td>\n",
       "                        <td id=\"T_dde87952_6b78_11ea_87a8_9822efebdaa8row7_col4\" class=\"data row7 col4\" >164</td>\n",
       "            </tr>\n",
       "            <tr>\n",
       "                                <th id=\"T_dde87952_6b78_11ea_87a8_9822efebdaa8level1_row8\" class=\"row_heading level1 row8\" >3</th>\n",
       "                        <td id=\"T_dde87952_6b78_11ea_87a8_9822efebdaa8row8_col0\" class=\"data row8 col0\" >55</td>\n",
       "                        <td id=\"T_dde87952_6b78_11ea_87a8_9822efebdaa8row8_col1\" class=\"data row8 col1\" >33</td>\n",
       "                        <td id=\"T_dde87952_6b78_11ea_87a8_9822efebdaa8row8_col2\" class=\"data row8 col2\" >231</td>\n",
       "                        <td id=\"T_dde87952_6b78_11ea_87a8_9822efebdaa8row8_col3\" class=\"data row8 col3\" >34</td>\n",
       "                        <td id=\"T_dde87952_6b78_11ea_87a8_9822efebdaa8row8_col4\" class=\"data row8 col4\" >353</td>\n",
       "            </tr>\n",
       "            <tr>\n",
       "                        <th id=\"T_dde87952_6b78_11ea_87a8_9822efebdaa8level0_row9\" class=\"row_heading level0 row9\" >All</th>\n",
       "                        <th id=\"T_dde87952_6b78_11ea_87a8_9822efebdaa8level1_row9\" class=\"row_heading level1 row9\" ></th>\n",
       "                        <td id=\"T_dde87952_6b78_11ea_87a8_9822efebdaa8row9_col0\" class=\"data row9 col0\" >81</td>\n",
       "                        <td id=\"T_dde87952_6b78_11ea_87a8_9822efebdaa8row9_col1\" class=\"data row9 col1\" >231</td>\n",
       "                        <td id=\"T_dde87952_6b78_11ea_87a8_9822efebdaa8row9_col2\" class=\"data row9 col2\" >468</td>\n",
       "                        <td id=\"T_dde87952_6b78_11ea_87a8_9822efebdaa8row9_col3\" class=\"data row9 col3\" >109</td>\n",
       "                        <td id=\"T_dde87952_6b78_11ea_87a8_9822efebdaa8row9_col4\" class=\"data row9 col4\" >889</td>\n",
       "            </tr>\n",
       "    </tbody></table>"
      ],
      "text/plain": [
       "<pandas.io.formats.style.Styler at 0x25e532bae10>"
      ]
     },
     "execution_count": 27,
     "metadata": {},
     "output_type": "execute_result"
    }
   ],
   "source": [
    "pd.crosstab([data.Embarked, data.Pclass], [data.Sex, data.Survived],margins = True).style.background_gradient(cmap = 'summer_r')"
   ]
  },
  {
   "cell_type": "code",
   "execution_count": 39,
   "metadata": {},
   "outputs": [
    {
     "data": {
      "image/png": "[encoded data removed]",
      "text/plain": [
       "<Figure size 288x144 with 1 Axes>"
      ]
     },
     "metadata": {
      "needs_background": "light"
     },
     "output_type": "display_data"
    }
   ],
   "source": [
    "sns.factorplot(data= data, x = 'Embarked',y='Survived')\n",
    "fig=plt.gcf()\n",
    "fig.set_size_inches(4,2)\n",
    "plt.show()"
   ]
  },
  {
   "cell_type": "code",
   "execution_count": 51,
   "metadata": {},
   "outputs": [
    {
     "data": {
      "image/png": "[encoded data removed]",
      "text/plain": [
       "<Figure size 576x576 with 4 Axes>"
      ]
     },
     "metadata": {
      "needs_background": "light"
     },
     "output_type": "display_data"
    }
   ],
   "source": [
    "f, ax = make_figure(2,2)\n",
    "sns.countplot('Embarked', data=data, ax=ax[0,0])\n",
    "ax[0,0].set_title('No. Of Passengers Boarded')\n",
    "sns.countplot('Embarked',hue='Sex',data=data,ax=ax[0,1])\n",
    "ax[0,1].set_title('Male-Female Split for Embarked')\n",
    "sns.countplot('Embarked',hue='Survived',data=data,ax=ax[1,0])\n",
    "ax[1,0].set_title('Embarked vs Survived')\n",
    "sns.countplot('Embarked',hue='Pclass',data=data,ax=ax[1,1])\n",
    "ax[1,1].set_title('Embarked vs Pclass')\n",
    "plt.subplots_adjust(wspace=0.2,hspace=0.5) # 간격\n",
    "plt.show()"
   ]
  },
  {
   "cell_type": "markdown",
   "metadata": {},
   "source": [
    "- 관찰 결과\n",
    "\n",
    "1) S에서 많은 승객이 탑승했고 대다수는 Pclass 3이다.\n",
    "\n",
    "2) C의 승객들은 생존률이 높다.그 이유는 Pclass가 1인 사람이 많기 때문이다.\n",
    "\n",
    "3) S는 부자들이 많이 탑승한 항구로 보인다. 하지만 여전히 생존율은 낮다. Pclass가 3인 승객들 중 **81%**가 생존하지 못했다.\n",
    "\n",
    "4) Q 승객들은 95%가 Pclass가 3인 승객이다."
   ]
  },
  {
   "cell_type": "code",
   "execution_count": null,
   "metadata": {},
   "outputs": [],
   "source": []
  },
  {
   "cell_type": "code",
   "execution_count": null,
   "metadata": {},
   "outputs": [],
   "source": []
  },
  {
   "cell_type": "code",
   "execution_count": null,
   "metadata": {},
   "outputs": [],
   "source": []
  },
  {
   "cell_type": "code",
   "execution_count": null,
   "metadata": {},
   "outputs": [],
   "source": []
  },
  {
   "cell_type": "code",
   "execution_count": null,
   "metadata": {},
   "outputs": [],
   "source": []
  },
  {
   "cell_type": "code",
   "execution_count": null,
   "metadata": {},
   "outputs": [],
   "source": []
  },
  {
   "cell_type": "code",
   "execution_count": null,
   "metadata": {},
   "outputs": [],
   "source": []
  },
  {
   "cell_type": "code",
   "execution_count": null,
   "metadata": {},
   "outputs": [],
   "source": []
  },
  {
   "cell_type": "markdown",
   "metadata": {},
   "source": [
    "#### [참고 링크](https://www.kaggle.com/ash316/eda-to-prediction-dietanic)"
   ]
  }
 ],
 "metadata": {
  "kernelspec": {
   "display_name": "Python 3",
   "language": "python",
   "name": "python3"
  },
  "language_info": {
   "codemirror_mode": {
    "name": "ipython",
    "version": 3
   },
   "file_extension": ".py",
   "mimetype": "text/x-python",
   "name": "python",
   "nbconvert_exporter": "python",
   "pygments_lexer": "ipython3",
   "version": "3.7.3"
  }
 },
 "nbformat": 4,
 "nbformat_minor": 2
}
